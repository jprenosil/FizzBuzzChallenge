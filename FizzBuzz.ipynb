{
  "nbformat": 4,
  "nbformat_minor": 0,
  "metadata": {
    "colab": {
      "name": "FizzBuzz.ipynb",
      "version": "0.3.2",
      "provenance": [],
      "include_colab_link": true
    },
    "kernelspec": {
      "name": "python3",
      "display_name": "Python 3"
    }
  },
  "cells": [
    {
      "cell_type": "markdown",
      "metadata": {
        "id": "view-in-github",
        "colab_type": "text"
      },
      "source": [
        "<a href=\"https://colab.research.google.com/github/jprenosil/FizzBuzzChallenge/blob/master/FizzBuzz.ipynb\" target=\"_parent\"><img src=\"https://colab.research.google.com/assets/colab-badge.svg\" alt=\"Open In Colab\"/></a>"
      ]
    },
    {
      "cell_type": "markdown",
      "metadata": {
        "id": "XlMUqWw58lyu",
        "colab_type": "text"
      },
      "source": [
        "Several methods and approaches of exploring the FizzBuzz code exercise/kata. The first is a pure simple approach. Each of these has the added complexity of handling if a number is divisible by a 3 or 5 and if a number contains 3 or 5. "
      ]
    },
    {
      "cell_type": "code",
      "metadata": {
        "id": "6MD_er7RpV15",
        "colab_type": "code",
        "colab": {}
      },
      "source": [
        "for x in range(1,101):\n",
        "  output = \"\"\n",
        "  if x % 3 == 0 or \"3\" in str(x) :\n",
        "    output += \"fizz\"\n",
        "  if x % 5 == 0 or \"5\" in str(x):\n",
        "    output += \"buzz\"\n",
        "  else:\n",
        "    output += str(x)\n",
        "  print(output)"
      ],
      "execution_count": 0,
      "outputs": []
    },
    {
      "cell_type": "markdown",
      "metadata": {
        "id": "7_bfLDBJ91zR",
        "colab_type": "text"
      },
      "source": [
        "The first method does not use functions. The next methods all use a few approaches with functions. I am not sure which methods are the cleanest."
      ]
    },
    {
      "cell_type": "code",
      "metadata": {
        "id": "TIgRLzIIyIKI",
        "colab_type": "code",
        "colab": {}
      },
      "source": [
        "def is_mod_zero(num, div):\n",
        "  if num % div == 0 or str(div) in str(num):\n",
        "    return True\n",
        "\n",
        "def fizz_buzz(num):\n",
        "    output = \"\"\n",
        "    if is_mod_zero(num, 3):\n",
        "        output += 'fizz'\n",
        "    if is_mod_zero(num, 5):\n",
        "        output += 'buzz'\n",
        "    if output == \"\":\n",
        "      output += str(num)\n",
        "    return output\n",
        "\n",
        "if __name__ == \"__main__\":\n",
        "    for i in range(1,101):\n",
        "        print(fizz_buzz(i))"
      ],
      "execution_count": 0,
      "outputs": []
    },
    {
      "cell_type": "code",
      "metadata": {
        "id": "HLs5OMN8ybju",
        "colab_type": "code",
        "colab": {}
      },
      "source": [
        "def doesfizz(num,div,out):\n",
        "  if num % div == 0 or str(div) in str(num):\n",
        "    return out\n",
        "  else:\n",
        "    return \"\"\n",
        "\n",
        "for num in range(1,101):\n",
        "  output = \"\"\n",
        "  output += doesfizz(num,3,\"fizz\")\n",
        "  output += doesfizz(num,5,\"buzz\")\n",
        "  if output == \"\":\n",
        "    output = num\n",
        "  print(output)"
      ],
      "execution_count": 0,
      "outputs": []
    },
    {
      "cell_type": "code",
      "metadata": {
        "id": "WTvTAZal5-PR",
        "colab_type": "code",
        "colab": {
          "base_uri": "https://localhost:8080/",
          "height": 33
        },
        "outputId": "db8c44d3-0a0f-4be2-a181-3c8c3916bc62"
      },
      "source": [
        "doesfizz(53,3,\"fizz\")"
      ],
      "execution_count": 60,
      "outputs": [
        {
          "output_type": "execute_result",
          "data": {
            "text/plain": [
              "'fizz'"
            ]
          },
          "metadata": {
            "tags": []
          },
          "execution_count": 60
        }
      ]
    },
    {
      "cell_type": "code",
      "metadata": {
        "id": "yuNZfOYp-ZpF",
        "colab_type": "code",
        "colab": {
          "base_uri": "https://localhost:8080/",
          "height": 33
        },
        "outputId": "798cc7de-2009-4402-8c70-35f9063e3c1b"
      },
      "source": [
        "fizz_buzz(53)"
      ],
      "execution_count": 63,
      "outputs": [
        {
          "output_type": "execute_result",
          "data": {
            "text/plain": [
              "'fizzbuzz'"
            ]
          },
          "metadata": {
            "tags": []
          },
          "execution_count": 63
        }
      ]
    },
    {
      "cell_type": "markdown",
      "metadata": {
        "id": "uFSoFFAw-jwk",
        "colab_type": "text"
      },
      "source": [
        "Here, the fizz_buzz function approach appears superior as it is possible to test our function with expected outputs. We can assert here, where with the doesfizz function, it is not."
      ]
    }
  ]
}